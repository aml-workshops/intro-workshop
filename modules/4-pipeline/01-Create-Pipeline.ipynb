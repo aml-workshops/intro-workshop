{
 "cells": [
  {
   "cell_type": "markdown",
   "id": "subsequent-title",
   "metadata": {},
   "source": [
    "# Creating an Azure Machine Learning Pipeline\n",
    "\n",
    "To create an AML Pipeline, we first create the step object and any intermediate data connections. Next, we create and submit the pipeline."
   ]
  },
  {
   "cell_type": "code",
   "execution_count": null,
   "id": "selective-roman",
   "metadata": {},
   "outputs": [],
   "source": [
    "USER_NAME = 'ENTER_YOUR_NAME_HERE'\n",
    "\n",
    "ENVIRONMENT_NAME = f'sklearn-{USER_NAME}'\n",
    "EXPERIMENT_NAME = f'diabetes-{USER_NAME}'\n",
    "DATASET_NAME = f'diabetes-{USER_NAME}'\n",
    "COMPUTE_TARGET_NAME = 'cpu-cluster'\n",
    "MODEL_NAME = f'diabetes-{USER_NAME}'\n",
    "PIPELINE_ENDPOINT_NAME = f'diabetes-retraining-{USER_NAME}'\n",
    "\n",
    "\n",
    "DATA_PATH = \"./data\"\n",
    "BLOB_PATH = f'/data/{USER_NAME}'"
   ]
  },
  {
   "cell_type": "code",
   "execution_count": null,
   "id": "industrial-network",
   "metadata": {},
   "outputs": [],
   "source": [
    "from azureml.core import Workspace, Experiment, RunConfiguration\n",
    "from azureml.pipeline.core import (Pipeline, PipelineData, PipelineParameter,\n",
    "                                   PublishedPipeline)\n",
    "from azureml.pipeline.steps import PythonScriptStep\n",
    "\n",
    "ws = Workspace.from_config()\n",
    "exp = Experiment(ws, EXPERIMENT_NAME)\n",
    "\n",
    "diabetes_dataset = ws.datasets[DATASET_NAME]\n",
    "sklearn_env = ws.environments[ENVIRONMENT_NAME]\n",
    "cpu_cluster = ws.compute_targets[COMPUTE_TARGET_NAME]"
   ]
  },
  {
   "cell_type": "code",
   "execution_count": null,
   "id": "imposed-sequence",
   "metadata": {},
   "outputs": [],
   "source": [
    "RC = RunConfiguration()\n",
    "RC.environment = sklearn_env"
   ]
  },
  {
   "cell_type": "markdown",
   "id": "fiscal-breakdown",
   "metadata": {},
   "source": [
    "## Create PipelineStep 1: Training Step"
   ]
  },
  {
   "cell_type": "code",
   "execution_count": null,
   "id": "contrary-channels",
   "metadata": {},
   "outputs": [],
   "source": [
    "# This step will leverage a dataset as an input and pipeline data as an output\n",
    "\n",
    "model_metadata = PipelineData('model_metadata', ws.get_default_datastore())\n",
    "\n",
    "train_step = PythonScriptStep(\n",
    "    name=\"Train Model\",\n",
    "    script_name=\"ridge-train.py\",\n",
    "    source_directory='./train/',\n",
    "    compute_target=cpu_cluster,\n",
    "    outputs=[model_metadata],\n",
    "    allow_reuse=True,\n",
    "    arguments=[\"--data-path\", diabetes_dataset.as_named_input('TrainingData').as_mount(), '--model-metadata-folder', model_metadata],\n",
    "    runconfig=RC\n",
    ")"
   ]
  },
  {
   "cell_type": "markdown",
   "id": "military-preview",
   "metadata": {},
   "source": [
    "## Create PipelineStep 2: Evaluation Step"
   ]
  },
  {
   "cell_type": "code",
   "execution_count": null,
   "id": "urban-polish",
   "metadata": {},
   "outputs": [],
   "source": [
    "recommend_register = PipelineData('recommend_register', ws.get_default_datastore())\n",
    "\n",
    "evaluate_step = PythonScriptStep(\n",
    "    name=\"Evaluate Model\",\n",
    "    script_name=\"evaluate.py\",\n",
    "    source_directory='./evaluate/',\n",
    "    compute_target=cpu_cluster,\n",
    "    inputs=[model_metadata],\n",
    "    outputs=[recommend_register],\n",
    "    allow_reuse=True,\n",
    "    arguments=[\n",
    "        \"--validation-data-path\", diabetes_dataset.as_named_input('ValidationData').as_mount(), \n",
    "        '--model-metadata-folder', model_metadata,\n",
    "        \"--existing-model-name\", MODEL_NAME,\n",
    "        \"--registration-decision-folder\", recommend_register\n",
    "        \n",
    "    ],\n",
    "    runconfig=RC\n",
    ")\n"
   ]
  },
  {
   "cell_type": "markdown",
   "id": "fifty-reaction",
   "metadata": {},
   "source": [
    "## Create PipelineStep 3: Register Model Step"
   ]
  },
  {
   "cell_type": "code",
   "execution_count": null,
   "id": "vertical-reputation",
   "metadata": {},
   "outputs": [],
   "source": [
    "register_model = PythonScriptStep(\n",
    "    name=\"Register Model\",\n",
    "    script_name=\"register_model.py\",\n",
    "    source_directory='./register/',\n",
    "    compute_target=cpu_cluster,\n",
    "    inputs=[model_metadata, recommend_register],\n",
    "    allow_reuse=True,\n",
    "    arguments=[\n",
    "        \"--force\", False,\n",
    "        \"--skip\", False,\n",
    "        '--model-metadata', model_metadata,\n",
    "        \"--model-name\", MODEL_NAME,\n",
    "        \"--register-model-folder\", recommend_register\n",
    "        \n",
    "    ],\n",
    "    runconfig=RC\n",
    ")\n"
   ]
  },
  {
   "cell_type": "markdown",
   "id": "perfect-break",
   "metadata": {},
   "source": [
    "## Create Pipeline and Submit Pipeline"
   ]
  },
  {
   "cell_type": "code",
   "execution_count": null,
   "id": "emotional-reconstruction",
   "metadata": {},
   "outputs": [],
   "source": [
    "pipeline = Pipeline(ws, steps=[register_model])"
   ]
  },
  {
   "cell_type": "code",
   "execution_count": null,
   "id": "empirical-transsexual",
   "metadata": {},
   "outputs": [],
   "source": [
    "pipeline_run = exp.submit(pipeline, tags={\"Context\": \"Pipeline\"})"
   ]
  },
  {
   "cell_type": "code",
   "execution_count": null,
   "id": "minimal-calcium",
   "metadata": {},
   "outputs": [],
   "source": [
    "from azureml.widgets import RunDetails\n",
    "RunDetails(pipeline_run).show()"
   ]
  },
  {
   "cell_type": "markdown",
   "id": "suited-ocean",
   "metadata": {},
   "source": [
    "## Create [PipelineEndpoint](https://docs.microsoft.com/en-us/python/api/azureml-pipeline-core/azureml.pipeline.core.pipeline_endpoint.pipelineendpoint?view=azure-ml-py)\n"
   ]
  },
  {
   "cell_type": "code",
   "execution_count": null,
   "id": "thermal-commerce",
   "metadata": {},
   "outputs": [],
   "source": [
    "from azureml.pipeline.core import PipelineEndpoint\n",
    "\n",
    "# The pipeline argument can be either a Pipeline or a PublishedPipeline\n",
    "pipeline_endpoint = PipelineEndpoint.publish(workspace=ws,\n",
    "                                            name=PIPELINE_ENDPOINT_NAME,\n",
    "                                            pipeline=pipeline,\n",
    "                                            description=\"Diabetes retraining pipeline endpoint\")"
   ]
  }
 ],
 "metadata": {
  "kernelspec": {
   "display_name": "Python 3.6 - AzureML",
   "language": "python",
   "name": "python3-azureml"
  },
  "language_info": {
   "codemirror_mode": {
    "name": "ipython",
    "version": 3
   },
   "file_extension": ".py",
   "mimetype": "text/x-python",
   "name": "python",
   "nbconvert_exporter": "python",
   "pygments_lexer": "ipython3",
   "version": "3.6.9"
  }
 },
 "nbformat": 4,
 "nbformat_minor": 5
}
