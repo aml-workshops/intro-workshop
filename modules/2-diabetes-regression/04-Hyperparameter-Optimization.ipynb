{
 "cells": [
  {
   "cell_type": "markdown",
   "id": "connected-cosmetic",
   "metadata": {},
   "source": [
    "# Hyperparameter Optimization\n",
    "\n",
    "We have the same three steps as before, but we add an additional step for the HyperDrive configuration.\n",
    "\n",
    "1. create a `*.py` file that'll be run by the remote compute\n",
    "    - In this case, we've already created that here in gbt-train.py\n",
    "1. Configure a ScriptRunConfig that will execute this script\n",
    "1. **ADDED STEP** Wrap the ScriptRunConfig in a HyderDriveConfig\n",
    "1. Submit the script for execution in AML Compute"
   ]
  },
  {
   "cell_type": "code",
   "execution_count": null,
   "id": "latin-laundry",
   "metadata": {},
   "outputs": [],
   "source": [
    "!python gbt-train.py --help"
   ]
  },
  {
   "cell_type": "code",
   "execution_count": null,
   "id": "beneficial-video",
   "metadata": {},
   "outputs": [],
   "source": [
    "from azureml.core import Workspace, Experiment, Run, Environment, Dataset, ScriptRunConfig\n",
    "from azureml.train.hyperdrive import HyperDriveConfig, PrimaryMetricGoal, RandomParameterSampling, uniform, choice, normal, randint"
   ]
  },
  {
   "cell_type": "markdown",
   "id": "grand-gross",
   "metadata": {},
   "source": [
    "# 2. Configure a `ScriptRun`"
   ]
  },
  {
   "cell_type": "code",
   "execution_count": null,
   "id": "neutral-wrong",
   "metadata": {},
   "outputs": [],
   "source": [
    "USER_NAME = 'ENTER_YOUR_NAME_HERE'\n",
    "\n",
    "ENVIRONMENT_NAME = f'sklearn-{USER_NAME}'\n",
    "EXPERIMENT_NAME = f'diabetes-{USER_NAME}'\n",
    "DATASET_NAME = f'diabetes-{USER_NAME}'\n",
    "COMPUTE_TARGET_NAME = 'cpu-cluster'\n",
    "\n",
    "DATA_PATH = \"./data\"\n",
    "BLOB_PATH = f'/data/{USER_NAME}'"
   ]
  },
  {
   "cell_type": "code",
   "execution_count": null,
   "id": "floral-strike",
   "metadata": {},
   "outputs": [],
   "source": [
    "from azureml.core import Workspace, ScriptRunConfig, Experiment, Dataset, Environment\n",
    "\n",
    "ws = Workspace.from_config()\n",
    "exp = Experiment(ws, EXPERIMENT_NAME)\n",
    "\n",
    "diabetes_dataset = ws.datasets[DATASET_NAME]\n",
    "sklearn_env = ws.environments[ENVIRONMENT_NAME]\n",
    "cpu_cluster = ws.compute_targets[COMPUTE_TARGET_NAME]\n"
   ]
  },
  {
   "cell_type": "code",
   "execution_count": null,
   "id": "labeled-workstation",
   "metadata": {},
   "outputs": [],
   "source": [
    "script_run = ScriptRunConfig(\n",
    "    source_directory = '.',\n",
    "    script='gbt-train.py',\n",
    "    environment=sklearn_env,\n",
    "    compute_target=cpu_cluster,\n",
    "    arguments=['--data-path', diabetes_dataset.as_mount()]\n",
    ")"
   ]
  },
  {
   "cell_type": "markdown",
   "id": "quiet-banking",
   "metadata": {},
   "source": [
    "# 3. Specify HyperDrive Run"
   ]
  },
  {
   "cell_type": "code",
   "execution_count": null,
   "id": "established-houston",
   "metadata": {},
   "outputs": [],
   "source": [
    "param_space = RandomParameterSampling({\n",
    "    \"learning-rate\": normal(0.5, 0.05),\n",
    "    \"alpha\": uniform(0.001, 0.1),\n",
    "    \"n-estimators\": randint(400),\n",
    "    \"max-depth\": randint(10)\n",
    "})\n",
    "\n",
    "hd_config = HyperDriveConfig(\n",
    "    hyperparameter_sampling=param_space,\n",
    "    primary_metric_name='rmse',\n",
    "    primary_metric_goal=PrimaryMetricGoal.MINIMIZE,\n",
    "    max_total_runs=15,\n",
    "    max_concurrent_runs=2,\n",
    "    run_config=script_run\n",
    ")"
   ]
  },
  {
   "cell_type": "code",
   "execution_count": null,
   "id": "large-affair",
   "metadata": {},
   "outputs": [],
   "source": [
    "run = exp.submit(hd_config, tag={\"Context\": \"Remote\"})"
   ]
  },
  {
   "cell_type": "code",
   "execution_count": null,
   "id": "departmental-toilet",
   "metadata": {},
   "outputs": [],
   "source": [
    "from azureml.widgets import RunDetails\n",
    "\n",
    "RunDetails(run).show()"
   ]
  },
  {
   "cell_type": "code",
   "execution_count": null,
   "id": "removable-mission",
   "metadata": {},
   "outputs": [],
   "source": []
  }
 ],
 "metadata": {
  "kernelspec": {
   "display_name": "Python 3.6 - AzureML",
   "language": "python",
   "name": "python3-azureml"
  },
  "language_info": {
   "codemirror_mode": {
    "name": "ipython",
    "version": 3
   },
   "file_extension": ".py",
   "mimetype": "text/x-python",
   "name": "python",
   "nbconvert_exporter": "python",
   "pygments_lexer": "ipython3",
   "version": "3.6.9"
  }
 },
 "nbformat": 4,
 "nbformat_minor": 5
}
