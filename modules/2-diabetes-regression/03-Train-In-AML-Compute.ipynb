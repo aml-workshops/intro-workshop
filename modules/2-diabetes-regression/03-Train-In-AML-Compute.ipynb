{
 "cells": [
  {
   "cell_type": "markdown",
   "id": "damaged-trance",
   "metadata": {},
   "source": [
    "# Train in AML Compute\n",
    "\n",
    "Now that we've created an Environment and a Dataset, let's run the training in AML Compute.\n",
    "\n",
    "To do that, there are several steps: \n",
    "1. create a `*.py` file that'll be run by the remote compute\n",
    "1. Configure a ScriptRun that will execute this script\n",
    "1. Submit the script for execution"
   ]
  },
  {
   "cell_type": "markdown",
   "id": "horizontal-ownership",
   "metadata": {},
   "source": [
    "# 1. Create a `*.py` file\n",
    "There are many ways to create a `*.py` file, but here, we'll just write from Jupyter"
   ]
  },
  {
   "cell_type": "code",
   "execution_count": null,
   "id": "nuclear-broadway",
   "metadata": {},
   "outputs": [],
   "source": [
    "%%writefile ridge-train.py\n",
    "# Copyright (c) 2021 Microsoft\n",
    "# \n",
    "# This software is released under the MIT License.\n",
    "# https://opensource.org/licenses/MIT\n",
    "\n",
    "import click\n",
    "import joblib\n",
    "import matplotlib.pyplot as plt\n",
    "import numpy as np\n",
    "import pandas as pd\n",
    "import seaborn as sns\n",
    "\n",
    "from azureml.core import Run\n",
    "from sklearn.datasets import load_diabetes\n",
    "from sklearn.linear_model import Ridge\n",
    "from sklearn.metrics import mean_squared_error, mean_absolute_error, r2_score\n",
    "from sklearn.model_selection import train_test_split\n",
    "\n",
    "# Get the Run context - this will allow us to log metrics against the run. \n",
    "run = Run.get_context()\n",
    "\n",
    "\n",
    "def read_data(data_path):\n",
    "    diabetes_df = pd.read_csv(data_path)\n",
    "\n",
    "    y = diabetes_df.pop('target').values\n",
    "    X = diabetes_df.values\n",
    "\n",
    "    X_train, X_test, y_train, y_test = train_test_split(\n",
    "        X, y, test_size=0.2, random_state=0)\n",
    "\n",
    "    print(\n",
    "        f\"Data contains {len(X_train)} training samples and {len(X_test)} test samples\")\n",
    "\n",
    "    return X_train, X_test, y_train, y_test\n",
    "\n",
    "\n",
    "def plot_residuals_v_actuals(y, y_hat):\n",
    "    \"\"\"Residuals (y-axis) vs. Actuals (x-axis) - colored green\"\"\"\n",
    "    resids = y - y_hat\n",
    "\n",
    "    fig = plt.figure()\n",
    "    sns.regplot(x=y, y=resids, color='g')\n",
    "\n",
    "    plt.title('Residual vs. Actual')\n",
    "    plt.xlabel(\"Actual Value\")\n",
    "    plt.ylabel(\"Residuals\")\n",
    "\n",
    "    plt.close(fig)\n",
    "    return fig\n",
    "\n",
    "\n",
    "def plot_predictions(y, y_hat):\n",
    "    \"\"\"Predictions (y-axis) vs. Actuals (x-axis)\"\"\"\n",
    "    fig = plt.figure()\n",
    "\n",
    "    sns.regplot(x=y, y=y_hat, color='b')\n",
    "\n",
    "    plt.title(\"Prediction vs. Actual\")\n",
    "    plt.xlabel(\"Actual Value\")\n",
    "    plt.ylabel(\"Predicted Value\")\n",
    "\n",
    "    plt.close(fig)\n",
    "    return fig\n",
    "\n",
    "\n",
    "def plot_resid_histogram(y, y_hat):\n",
    "    resids = y - y_hat\n",
    "\n",
    "    fig = plt.figure()\n",
    "    sns.histplot(resids, color='g', kde=True)\n",
    "\n",
    "    plt.title(\"Residual Histogram\")\n",
    "\n",
    "    plt.close(fig)\n",
    "    return fig\n",
    "\n",
    "\n",
    "@click.command()\n",
    "@click.option(\"--data-path\", type=str, help='The path to the training data', required=True)\n",
    "@click.option('--alpha', default=0.03, type=float)\n",
    "def main(data_path: str, alpha: float):\n",
    "\n",
    "    X_train, X_test, y_train, y_test = read_data(data_path)\n",
    "\n",
    "    # Create, fit, and test the scikit-learn Ridge regression model\n",
    "    regression_model = Ridge(alpha=alpha)\n",
    "    regression_model.fit(X_train, y_train)\n",
    "    preds = regression_model.predict(X_test)\n",
    "\n",
    "    # Output the Mean Squared Error to the notebook and to the run\n",
    "    rmse = np.sqrt(mean_squared_error(y_test, preds))\n",
    "    mae = mean_absolute_error(y_test, preds)\n",
    "    r2 = r2_score(y_test, preds)\n",
    "\n",
    "    print(f\"RMSE:\\t{np.round(rmse,4)}\",\n",
    "          f\"MAE:\\t{np.round(mae,4)}\",\n",
    "          f\"R2:\\t{np.round(r2,4)}\",\n",
    "          sep='\\n')\n",
    "\n",
    "    resid_fig = plot_residuals_v_actuals(y_test, preds)\n",
    "    resid_hist = plot_resid_histogram(y_test, preds)\n",
    "    pred_plt = plot_predictions(y_test, preds)\n",
    "\n",
    "    # Log metrics to Azure ML\n",
    "    # THIS IS THE ONLY AML SPECIFIC CODE HERE #\n",
    "    run.log('alpha', alpha)\n",
    "    run.log('model_type', 'Ridge')\n",
    "    run.log('rmse', rmse)\n",
    "    run.log('mae', mae)\n",
    "    run.log('r2', r2)\n",
    "    run.log_image(name='residuals-v-actuals', plot=resid_fig)\n",
    "    run.log_image(name='residuals-histogram', plot=resid_hist)\n",
    "    run.log_image(name='prediction-v-actual', plot=pred_plt)\n",
    "\n",
    "    # Save the model to the outputs directory for capture\n",
    "    # Anything saved to ./outputs/ folder will be sent to Azure ML\n",
    "    # at the end of the run\n",
    "    joblib.dump(value=regression_model, filename='outputs/model.pkl')\n",
    "\n",
    "\n",
    "if __name__ == \"__main__\":\n",
    "    main()\n",
    "\n"
   ]
  },
  {
   "cell_type": "markdown",
   "id": "explicit-princeton",
   "metadata": {},
   "source": [
    "# 2. Configure a `ScriptRun`"
   ]
  },
  {
   "cell_type": "code",
   "execution_count": null,
   "id": "alive-living",
   "metadata": {},
   "outputs": [],
   "source": [
    "USER_NAME = 'ENTER_YOUR_NAME_HERE'\n",
    "\n",
    "ENVIRONMENT_NAME = f'sklearn-{USER_NAME}'\n",
    "EXPERIMENT_NAME = f'diabetes-{USER_NAME}'\n",
    "DATASET_NAME = f'diabetes-{USER_NAME}'\n",
    "COMPUTE_TARGET_NAME = 'cpu-cluster'\n",
    "\n",
    "DATA_PATH = \"./data\"\n",
    "BLOB_PATH = f'/data/{USER_NAME}'"
   ]
  },
  {
   "cell_type": "code",
   "execution_count": null,
   "id": "independent-gender",
   "metadata": {},
   "outputs": [],
   "source": [
    "from azureml.core import Workspace, ScriptRun, ScriptRunConfig, Experiment\n",
    "\n",
    "ws = Workspace.from_config()\n",
    "exp = Experiment(ws, EXPERIMENT_NAME)\n",
    "\n",
    "diabetes_dataset = ws.datasets[DATASET_NAME]\n",
    "sklearn_env = ws.environments[ENVIRONMENT_NAME]\n",
    "cpu_cluster = ws.compute_targets[COMPUTE_TARGET_NAME]\n"
   ]
  },
  {
   "cell_type": "code",
   "execution_count": null,
   "id": "younger-colon",
   "metadata": {},
   "outputs": [],
   "source": [
    "script_run = ScriptRunConfig(\n",
    "    source_directory = '.',\n",
    "    script='ridge-train.py',\n",
    "    environment=sklearn_env,\n",
    "    compute_target=cpu_cluster,\n",
    "    arguments=['--data-path', diabetes_dataset.as_mount()]\n",
    ")"
   ]
  },
  {
   "cell_type": "markdown",
   "id": "affected-mother",
   "metadata": {},
   "source": [
    "# 3. Submit the run and monitor progress"
   ]
  },
  {
   "cell_type": "code",
   "execution_count": null,
   "id": "center-appointment",
   "metadata": {},
   "outputs": [],
   "source": [
    "run = exp.submit(script_run, tags={\"Context\": \"Remote\"})"
   ]
  },
  {
   "cell_type": "code",
   "execution_count": null,
   "id": "human-anatomy",
   "metadata": {},
   "outputs": [],
   "source": [
    "from azureml.widgets import RunDetails\n",
    "\n",
    "RunDetails(run).show()"
   ]
  },
  {
   "cell_type": "markdown",
   "id": "challenging-hygiene",
   "metadata": {},
   "source": [
    "<br><br><br><br><br>\n",
    "\n",
    "\n",
    "\n",
    "\n",
    "\n",
    "\n",
    "###### Copyright (c) Microsoft Corporation. All rights reserved.  \n",
    "###### Licensed under the MIT License."
   ]
  }
 ],
 "metadata": {
  "kernelspec": {
   "display_name": "Python 3.6 - AzureML",
   "language": "python",
   "name": "python3-azureml"
  },
  "language_info": {
   "codemirror_mode": {
    "name": "ipython",
    "version": 3
   },
   "file_extension": ".py",
   "mimetype": "text/x-python",
   "name": "python",
   "nbconvert_exporter": "python",
   "pygments_lexer": "ipython3",
   "version": "3.6.9"
  }
 },
 "nbformat": 4,
 "nbformat_minor": 5
}
